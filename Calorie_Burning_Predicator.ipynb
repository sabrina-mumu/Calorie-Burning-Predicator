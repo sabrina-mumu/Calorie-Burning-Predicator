{
  "cells": [
    {
      "cell_type": "markdown",
      "metadata": {
        "id": "UHKXOARf0lsI"
      },
      "source": [
        "Importing dependencies"
      ]
    },
    {
      "cell_type": "code",
      "execution_count": null,
      "metadata": {
        "id": "kbFDnqme0U7G"
      },
      "outputs": [],
      "source": [
        "import pandas as pd\n",
        "import numpy as np\n",
        "import matplotlib.pyplot as plt\n",
        "import seaborn as sns\n",
        "from sklearn.model_selection import train_test_split\n",
        "from sklearn import linear_model\n"
      ]
    },
    {
      "cell_type": "markdown",
      "metadata": {
        "id": "tMBg3cnL08RN"
      },
      "source": [
        "Data collection and processing"
      ]
    },
    {
      "cell_type": "code",
      "execution_count": null,
      "metadata": {
        "colab": {
          "base_uri": "https://localhost:8080/",
          "height": 206
        },
        "id": "ezGpZ6Pi093V",
        "outputId": "2258ae1d-fee8-43e9-8203-33938eb7ef40"
      },
      "outputs": [
        {
          "output_type": "execute_result",
          "data": {
            "text/html": [
              "\n",
              "  <div id=\"df-2ff1a3d5-6786-4ab5-a8e7-a5fc07b1e99e\">\n",
              "    <div class=\"colab-df-container\">\n",
              "      <div>\n",
              "<style scoped>\n",
              "    .dataframe tbody tr th:only-of-type {\n",
              "        vertical-align: middle;\n",
              "    }\n",
              "\n",
              "    .dataframe tbody tr th {\n",
              "        vertical-align: top;\n",
              "    }\n",
              "\n",
              "    .dataframe thead th {\n",
              "        text-align: right;\n",
              "    }\n",
              "</style>\n",
              "<table border=\"1\" class=\"dataframe\">\n",
              "  <thead>\n",
              "    <tr style=\"text-align: right;\">\n",
              "      <th></th>\n",
              "      <th>Gender</th>\n",
              "      <th>Age</th>\n",
              "      <th>Height</th>\n",
              "      <th>Weight</th>\n",
              "      <th>Duration</th>\n",
              "      <th>Heart_Rate</th>\n",
              "      <th>Body_Temp</th>\n",
              "      <th>Calories</th>\n",
              "    </tr>\n",
              "  </thead>\n",
              "  <tbody>\n",
              "    <tr>\n",
              "      <th>0</th>\n",
              "      <td>male</td>\n",
              "      <td>31</td>\n",
              "      <td>198</td>\n",
              "      <td>99</td>\n",
              "      <td>28</td>\n",
              "      <td>107</td>\n",
              "      <td>40.9</td>\n",
              "      <td>185</td>\n",
              "    </tr>\n",
              "    <tr>\n",
              "      <th>1</th>\n",
              "      <td>male</td>\n",
              "      <td>21</td>\n",
              "      <td>160</td>\n",
              "      <td>68</td>\n",
              "      <td>6</td>\n",
              "      <td>90</td>\n",
              "      <td>39.4</td>\n",
              "      <td>17</td>\n",
              "    </tr>\n",
              "    <tr>\n",
              "      <th>2</th>\n",
              "      <td>male</td>\n",
              "      <td>44</td>\n",
              "      <td>171</td>\n",
              "      <td>80</td>\n",
              "      <td>26</td>\n",
              "      <td>112</td>\n",
              "      <td>40.8</td>\n",
              "      <td>197</td>\n",
              "    </tr>\n",
              "    <tr>\n",
              "      <th>3</th>\n",
              "      <td>female</td>\n",
              "      <td>32</td>\n",
              "      <td>162</td>\n",
              "      <td>65</td>\n",
              "      <td>16</td>\n",
              "      <td>94</td>\n",
              "      <td>40.1</td>\n",
              "      <td>78</td>\n",
              "    </tr>\n",
              "    <tr>\n",
              "      <th>4</th>\n",
              "      <td>female</td>\n",
              "      <td>20</td>\n",
              "      <td>156</td>\n",
              "      <td>51</td>\n",
              "      <td>20</td>\n",
              "      <td>88</td>\n",
              "      <td>40.5</td>\n",
              "      <td>84</td>\n",
              "    </tr>\n",
              "  </tbody>\n",
              "</table>\n",
              "</div>\n",
              "      <button class=\"colab-df-convert\" onclick=\"convertToInteractive('df-2ff1a3d5-6786-4ab5-a8e7-a5fc07b1e99e')\"\n",
              "              title=\"Convert this dataframe to an interactive table.\"\n",
              "              style=\"display:none;\">\n",
              "        \n",
              "  <svg xmlns=\"http://www.w3.org/2000/svg\" height=\"24px\"viewBox=\"0 0 24 24\"\n",
              "       width=\"24px\">\n",
              "    <path d=\"M0 0h24v24H0V0z\" fill=\"none\"/>\n",
              "    <path d=\"M18.56 5.44l.94 2.06.94-2.06 2.06-.94-2.06-.94-.94-2.06-.94 2.06-2.06.94zm-11 1L8.5 8.5l.94-2.06 2.06-.94-2.06-.94L8.5 2.5l-.94 2.06-2.06.94zm10 10l.94 2.06.94-2.06 2.06-.94-2.06-.94-.94-2.06-.94 2.06-2.06.94z\"/><path d=\"M17.41 7.96l-1.37-1.37c-.4-.4-.92-.59-1.43-.59-.52 0-1.04.2-1.43.59L10.3 9.45l-7.72 7.72c-.78.78-.78 2.05 0 2.83L4 21.41c.39.39.9.59 1.41.59.51 0 1.02-.2 1.41-.59l7.78-7.78 2.81-2.81c.8-.78.8-2.07 0-2.86zM5.41 20L4 18.59l7.72-7.72 1.47 1.35L5.41 20z\"/>\n",
              "  </svg>\n",
              "      </button>\n",
              "      \n",
              "  <style>\n",
              "    .colab-df-container {\n",
              "      display:flex;\n",
              "      flex-wrap:wrap;\n",
              "      gap: 12px;\n",
              "    }\n",
              "\n",
              "    .colab-df-convert {\n",
              "      background-color: #E8F0FE;\n",
              "      border: none;\n",
              "      border-radius: 50%;\n",
              "      cursor: pointer;\n",
              "      display: none;\n",
              "      fill: #1967D2;\n",
              "      height: 32px;\n",
              "      padding: 0 0 0 0;\n",
              "      width: 32px;\n",
              "    }\n",
              "\n",
              "    .colab-df-convert:hover {\n",
              "      background-color: #E2EBFA;\n",
              "      box-shadow: 0px 1px 2px rgba(60, 64, 67, 0.3), 0px 1px 3px 1px rgba(60, 64, 67, 0.15);\n",
              "      fill: #174EA6;\n",
              "    }\n",
              "\n",
              "    [theme=dark] .colab-df-convert {\n",
              "      background-color: #3B4455;\n",
              "      fill: #D2E3FC;\n",
              "    }\n",
              "\n",
              "    [theme=dark] .colab-df-convert:hover {\n",
              "      background-color: #434B5C;\n",
              "      box-shadow: 0px 1px 3px 1px rgba(0, 0, 0, 0.15);\n",
              "      filter: drop-shadow(0px 1px 2px rgba(0, 0, 0, 0.3));\n",
              "      fill: #FFFFFF;\n",
              "    }\n",
              "  </style>\n",
              "\n",
              "      <script>\n",
              "        const buttonEl =\n",
              "          document.querySelector('#df-2ff1a3d5-6786-4ab5-a8e7-a5fc07b1e99e button.colab-df-convert');\n",
              "        buttonEl.style.display =\n",
              "          google.colab.kernel.accessAllowed ? 'block' : 'none';\n",
              "\n",
              "        async function convertToInteractive(key) {\n",
              "          const element = document.querySelector('#df-2ff1a3d5-6786-4ab5-a8e7-a5fc07b1e99e');\n",
              "          const dataTable =\n",
              "            await google.colab.kernel.invokeFunction('convertToInteractive',\n",
              "                                                     [key], {});\n",
              "          if (!dataTable) return;\n",
              "\n",
              "          const docLinkHtml = 'Like what you see? Visit the ' +\n",
              "            '<a target=\"_blank\" href=https://colab.research.google.com/notebooks/data_table.ipynb>data table notebook</a>'\n",
              "            + ' to learn more about interactive tables.';\n",
              "          element.innerHTML = '';\n",
              "          dataTable['output_type'] = 'display_data';\n",
              "          await google.colab.output.renderOutput(dataTable, element);\n",
              "          const docLink = document.createElement('div');\n",
              "          docLink.innerHTML = docLinkHtml;\n",
              "          element.appendChild(docLink);\n",
              "        }\n",
              "      </script>\n",
              "    </div>\n",
              "  </div>\n",
              "  "
            ],
            "text/plain": [
              "   Gender  Age  Height  Weight  Duration  Heart_Rate  Body_Temp  Calories\n",
              "0    male   31     198      99        28         107       40.9       185\n",
              "1    male   21     160      68         6          90       39.4        17\n",
              "2    male   44     171      80        26         112       40.8       197\n",
              "3  female   32     162      65        16          94       40.1        78\n",
              "4  female   20     156      51        20          88       40.5        84"
            ]
          },
          "metadata": {},
          "execution_count": 119
        }
      ],
      "source": [
        "#Loading the data from csv file to pandas dataframe\n",
        "calories_data= pd.read_csv('/content/calories_data.csv')\n",
        "calories_data.head()"
      ]
    },
    {
      "cell_type": "code",
      "execution_count": null,
      "metadata": {
        "colab": {
          "base_uri": "https://localhost:8080/",
          "height": 424
        },
        "id": "O9WANdj21ckK",
        "outputId": "0462d3ca-4731-495b-9912-d6ebd7fe0522"
      },
      "outputs": [
        {
          "output_type": "execute_result",
          "data": {
            "text/html": [
              "\n",
              "  <div id=\"df-4b3686c1-c51c-4bf7-9acf-a4f9279ee9f1\">\n",
              "    <div class=\"colab-df-container\">\n",
              "      <div>\n",
              "<style scoped>\n",
              "    .dataframe tbody tr th:only-of-type {\n",
              "        vertical-align: middle;\n",
              "    }\n",
              "\n",
              "    .dataframe tbody tr th {\n",
              "        vertical-align: top;\n",
              "    }\n",
              "\n",
              "    .dataframe thead th {\n",
              "        text-align: right;\n",
              "    }\n",
              "</style>\n",
              "<table border=\"1\" class=\"dataframe\">\n",
              "  <thead>\n",
              "    <tr style=\"text-align: right;\">\n",
              "      <th></th>\n",
              "      <th>Gender</th>\n",
              "      <th>Age</th>\n",
              "      <th>Height</th>\n",
              "      <th>Weight</th>\n",
              "      <th>Duration</th>\n",
              "      <th>Heart_Rate</th>\n",
              "      <th>Body_Temp</th>\n",
              "      <th>Calories</th>\n",
              "    </tr>\n",
              "  </thead>\n",
              "  <tbody>\n",
              "    <tr>\n",
              "      <th>0</th>\n",
              "      <td>male</td>\n",
              "      <td>31</td>\n",
              "      <td>198</td>\n",
              "      <td>99</td>\n",
              "      <td>28</td>\n",
              "      <td>107</td>\n",
              "      <td>40.9</td>\n",
              "      <td>185</td>\n",
              "    </tr>\n",
              "    <tr>\n",
              "      <th>1</th>\n",
              "      <td>male</td>\n",
              "      <td>21</td>\n",
              "      <td>160</td>\n",
              "      <td>68</td>\n",
              "      <td>6</td>\n",
              "      <td>90</td>\n",
              "      <td>39.4</td>\n",
              "      <td>17</td>\n",
              "    </tr>\n",
              "    <tr>\n",
              "      <th>2</th>\n",
              "      <td>male</td>\n",
              "      <td>44</td>\n",
              "      <td>171</td>\n",
              "      <td>80</td>\n",
              "      <td>26</td>\n",
              "      <td>112</td>\n",
              "      <td>40.8</td>\n",
              "      <td>197</td>\n",
              "    </tr>\n",
              "    <tr>\n",
              "      <th>3</th>\n",
              "      <td>female</td>\n",
              "      <td>32</td>\n",
              "      <td>162</td>\n",
              "      <td>65</td>\n",
              "      <td>16</td>\n",
              "      <td>94</td>\n",
              "      <td>40.1</td>\n",
              "      <td>78</td>\n",
              "    </tr>\n",
              "    <tr>\n",
              "      <th>4</th>\n",
              "      <td>female</td>\n",
              "      <td>20</td>\n",
              "      <td>156</td>\n",
              "      <td>51</td>\n",
              "      <td>20</td>\n",
              "      <td>88</td>\n",
              "      <td>40.5</td>\n",
              "      <td>84</td>\n",
              "    </tr>\n",
              "    <tr>\n",
              "      <th>...</th>\n",
              "      <td>...</td>\n",
              "      <td>...</td>\n",
              "      <td>...</td>\n",
              "      <td>...</td>\n",
              "      <td>...</td>\n",
              "      <td>...</td>\n",
              "      <td>...</td>\n",
              "      <td>...</td>\n",
              "    </tr>\n",
              "    <tr>\n",
              "      <th>338</th>\n",
              "      <td>female</td>\n",
              "      <td>30</td>\n",
              "      <td>163</td>\n",
              "      <td>58</td>\n",
              "      <td>22</td>\n",
              "      <td>109</td>\n",
              "      <td>40.5</td>\n",
              "      <td>143</td>\n",
              "    </tr>\n",
              "    <tr>\n",
              "      <th>339</th>\n",
              "      <td>female</td>\n",
              "      <td>33</td>\n",
              "      <td>163</td>\n",
              "      <td>57</td>\n",
              "      <td>4</td>\n",
              "      <td>84</td>\n",
              "      <td>38.7</td>\n",
              "      <td>16</td>\n",
              "    </tr>\n",
              "    <tr>\n",
              "      <th>340</th>\n",
              "      <td>male</td>\n",
              "      <td>38</td>\n",
              "      <td>189</td>\n",
              "      <td>91</td>\n",
              "      <td>24</td>\n",
              "      <td>100</td>\n",
              "      <td>40.5</td>\n",
              "      <td>137</td>\n",
              "    </tr>\n",
              "    <tr>\n",
              "      <th>341</th>\n",
              "      <td>male</td>\n",
              "      <td>20</td>\n",
              "      <td>183</td>\n",
              "      <td>81</td>\n",
              "      <td>17</td>\n",
              "      <td>97</td>\n",
              "      <td>40.5</td>\n",
              "      <td>71</td>\n",
              "    </tr>\n",
              "    <tr>\n",
              "      <th>342</th>\n",
              "      <td>female</td>\n",
              "      <td>67</td>\n",
              "      <td>159</td>\n",
              "      <td>62</td>\n",
              "      <td>13</td>\n",
              "      <td>94</td>\n",
              "      <td>40.2</td>\n",
              "      <td>72</td>\n",
              "    </tr>\n",
              "  </tbody>\n",
              "</table>\n",
              "<p>343 rows × 8 columns</p>\n",
              "</div>\n",
              "      <button class=\"colab-df-convert\" onclick=\"convertToInteractive('df-4b3686c1-c51c-4bf7-9acf-a4f9279ee9f1')\"\n",
              "              title=\"Convert this dataframe to an interactive table.\"\n",
              "              style=\"display:none;\">\n",
              "        \n",
              "  <svg xmlns=\"http://www.w3.org/2000/svg\" height=\"24px\"viewBox=\"0 0 24 24\"\n",
              "       width=\"24px\">\n",
              "    <path d=\"M0 0h24v24H0V0z\" fill=\"none\"/>\n",
              "    <path d=\"M18.56 5.44l.94 2.06.94-2.06 2.06-.94-2.06-.94-.94-2.06-.94 2.06-2.06.94zm-11 1L8.5 8.5l.94-2.06 2.06-.94-2.06-.94L8.5 2.5l-.94 2.06-2.06.94zm10 10l.94 2.06.94-2.06 2.06-.94-2.06-.94-.94-2.06-.94 2.06-2.06.94z\"/><path d=\"M17.41 7.96l-1.37-1.37c-.4-.4-.92-.59-1.43-.59-.52 0-1.04.2-1.43.59L10.3 9.45l-7.72 7.72c-.78.78-.78 2.05 0 2.83L4 21.41c.39.39.9.59 1.41.59.51 0 1.02-.2 1.41-.59l7.78-7.78 2.81-2.81c.8-.78.8-2.07 0-2.86zM5.41 20L4 18.59l7.72-7.72 1.47 1.35L5.41 20z\"/>\n",
              "  </svg>\n",
              "      </button>\n",
              "      \n",
              "  <style>\n",
              "    .colab-df-container {\n",
              "      display:flex;\n",
              "      flex-wrap:wrap;\n",
              "      gap: 12px;\n",
              "    }\n",
              "\n",
              "    .colab-df-convert {\n",
              "      background-color: #E8F0FE;\n",
              "      border: none;\n",
              "      border-radius: 50%;\n",
              "      cursor: pointer;\n",
              "      display: none;\n",
              "      fill: #1967D2;\n",
              "      height: 32px;\n",
              "      padding: 0 0 0 0;\n",
              "      width: 32px;\n",
              "    }\n",
              "\n",
              "    .colab-df-convert:hover {\n",
              "      background-color: #E2EBFA;\n",
              "      box-shadow: 0px 1px 2px rgba(60, 64, 67, 0.3), 0px 1px 3px 1px rgba(60, 64, 67, 0.15);\n",
              "      fill: #174EA6;\n",
              "    }\n",
              "\n",
              "    [theme=dark] .colab-df-convert {\n",
              "      background-color: #3B4455;\n",
              "      fill: #D2E3FC;\n",
              "    }\n",
              "\n",
              "    [theme=dark] .colab-df-convert:hover {\n",
              "      background-color: #434B5C;\n",
              "      box-shadow: 0px 1px 3px 1px rgba(0, 0, 0, 0.15);\n",
              "      filter: drop-shadow(0px 1px 2px rgba(0, 0, 0, 0.3));\n",
              "      fill: #FFFFFF;\n",
              "    }\n",
              "  </style>\n",
              "\n",
              "      <script>\n",
              "        const buttonEl =\n",
              "          document.querySelector('#df-4b3686c1-c51c-4bf7-9acf-a4f9279ee9f1 button.colab-df-convert');\n",
              "        buttonEl.style.display =\n",
              "          google.colab.kernel.accessAllowed ? 'block' : 'none';\n",
              "\n",
              "        async function convertToInteractive(key) {\n",
              "          const element = document.querySelector('#df-4b3686c1-c51c-4bf7-9acf-a4f9279ee9f1');\n",
              "          const dataTable =\n",
              "            await google.colab.kernel.invokeFunction('convertToInteractive',\n",
              "                                                     [key], {});\n",
              "          if (!dataTable) return;\n",
              "\n",
              "          const docLinkHtml = 'Like what you see? Visit the ' +\n",
              "            '<a target=\"_blank\" href=https://colab.research.google.com/notebooks/data_table.ipynb>data table notebook</a>'\n",
              "            + ' to learn more about interactive tables.';\n",
              "          element.innerHTML = '';\n",
              "          dataTable['output_type'] = 'display_data';\n",
              "          await google.colab.output.renderOutput(dataTable, element);\n",
              "          const docLink = document.createElement('div');\n",
              "          docLink.innerHTML = docLinkHtml;\n",
              "          element.appendChild(docLink);\n",
              "        }\n",
              "      </script>\n",
              "    </div>\n",
              "  </div>\n",
              "  "
            ],
            "text/plain": [
              "     Gender  Age  Height  Weight  Duration  Heart_Rate  Body_Temp  Calories\n",
              "0      male   31     198      99        28         107       40.9       185\n",
              "1      male   21     160      68         6          90       39.4        17\n",
              "2      male   44     171      80        26         112       40.8       197\n",
              "3    female   32     162      65        16          94       40.1        78\n",
              "4    female   20     156      51        20          88       40.5        84\n",
              "..      ...  ...     ...     ...       ...         ...        ...       ...\n",
              "338  female   30     163      58        22         109       40.5       143\n",
              "339  female   33     163      57         4          84       38.7        16\n",
              "340    male   38     189      91        24         100       40.5       137\n",
              "341    male   20     183      81        17          97       40.5        71\n",
              "342  female   67     159      62        13          94       40.2        72\n",
              "\n",
              "[343 rows x 8 columns]"
            ]
          },
          "metadata": {},
          "execution_count": 120
        }
      ],
      "source": [
        "calories_data"
      ]
    },
    {
      "cell_type": "code",
      "execution_count": null,
      "metadata": {
        "colab": {
          "base_uri": "https://localhost:8080/"
        },
        "id": "UfhCsbtb1iB4",
        "outputId": "c2102869-ea73-4d7f-ff1a-1e10793a37f4"
      },
      "outputs": [
        {
          "output_type": "execute_result",
          "data": {
            "text/plain": [
              "(343, 8)"
            ]
          },
          "metadata": {},
          "execution_count": 121
        }
      ],
      "source": [
        "#checking the no of rows and cols\n",
        "calories_data.shape"
      ]
    },
    {
      "cell_type": "markdown",
      "source": [],
      "metadata": {
        "id": "-5VXWh2nuLWK"
      }
    },
    {
      "cell_type": "code",
      "execution_count": null,
      "metadata": {
        "colab": {
          "base_uri": "https://localhost:8080/"
        },
        "id": "Z998VcE41tSu",
        "outputId": "683fc964-96ba-4a79-8e39-681f02e6941e"
      },
      "outputs": [
        {
          "output_type": "stream",
          "name": "stdout",
          "text": [
            "<class 'pandas.core.frame.DataFrame'>\n",
            "RangeIndex: 343 entries, 0 to 342\n",
            "Data columns (total 8 columns):\n",
            " #   Column      Non-Null Count  Dtype  \n",
            "---  ------      --------------  -----  \n",
            " 0   Gender      343 non-null    object \n",
            " 1   Age         343 non-null    int64  \n",
            " 2   Height      343 non-null    int64  \n",
            " 3   Weight      343 non-null    int64  \n",
            " 4   Duration    343 non-null    int64  \n",
            " 5   Heart_Rate  343 non-null    int64  \n",
            " 6   Body_Temp   343 non-null    float64\n",
            " 7   Calories    343 non-null    int64  \n",
            "dtypes: float64(1), int64(6), object(1)\n",
            "memory usage: 21.6+ KB\n"
          ]
        }
      ],
      "source": [
        "#getting some info about the data\n",
        "calories_data.info()"
      ]
    },
    {
      "cell_type": "code",
      "execution_count": null,
      "metadata": {
        "colab": {
          "base_uri": "https://localhost:8080/"
        },
        "id": "KQOtnaef1wbn",
        "outputId": "5ec163cd-b1f4-46d0-8f30-49395a96ed92"
      },
      "outputs": [
        {
          "output_type": "execute_result",
          "data": {
            "text/plain": [
              "Gender        0\n",
              "Age           0\n",
              "Height        0\n",
              "Weight        0\n",
              "Duration      0\n",
              "Heart_Rate    0\n",
              "Body_Temp     0\n",
              "Calories      0\n",
              "dtype: int64"
            ]
          },
          "metadata": {},
          "execution_count": 123
        }
      ],
      "source": [
        "#checking for missing data\n",
        "calories_data.isnull().sum()\n",
        "\n"
      ]
    },
    {
      "cell_type": "code",
      "execution_count": null,
      "metadata": {
        "colab": {
          "base_uri": "https://localhost:8080/",
          "height": 300
        },
        "id": "lpxcQVVv1y9K",
        "outputId": "98e43c47-82ce-41ee-8455-ccbb1d88abe5"
      },
      "outputs": [
        {
          "output_type": "execute_result",
          "data": {
            "text/html": [
              "\n",
              "  <div id=\"df-5c3157b0-069a-4af2-8752-107b87e03b1a\">\n",
              "    <div class=\"colab-df-container\">\n",
              "      <div>\n",
              "<style scoped>\n",
              "    .dataframe tbody tr th:only-of-type {\n",
              "        vertical-align: middle;\n",
              "    }\n",
              "\n",
              "    .dataframe tbody tr th {\n",
              "        vertical-align: top;\n",
              "    }\n",
              "\n",
              "    .dataframe thead th {\n",
              "        text-align: right;\n",
              "    }\n",
              "</style>\n",
              "<table border=\"1\" class=\"dataframe\">\n",
              "  <thead>\n",
              "    <tr style=\"text-align: right;\">\n",
              "      <th></th>\n",
              "      <th>Age</th>\n",
              "      <th>Height</th>\n",
              "      <th>Weight</th>\n",
              "      <th>Duration</th>\n",
              "      <th>Heart_Rate</th>\n",
              "      <th>Body_Temp</th>\n",
              "      <th>Calories</th>\n",
              "    </tr>\n",
              "  </thead>\n",
              "  <tbody>\n",
              "    <tr>\n",
              "      <th>count</th>\n",
              "      <td>343.000000</td>\n",
              "      <td>343.000000</td>\n",
              "      <td>343.000000</td>\n",
              "      <td>343.000000</td>\n",
              "      <td>343.000000</td>\n",
              "      <td>343.000000</td>\n",
              "      <td>343.000000</td>\n",
              "    </tr>\n",
              "    <tr>\n",
              "      <th>mean</th>\n",
              "      <td>42.364431</td>\n",
              "      <td>173.749271</td>\n",
              "      <td>74.641399</td>\n",
              "      <td>16.072886</td>\n",
              "      <td>95.860058</td>\n",
              "      <td>40.074927</td>\n",
              "      <td>94.008746</td>\n",
              "    </tr>\n",
              "    <tr>\n",
              "      <th>std</th>\n",
              "      <td>16.555016</td>\n",
              "      <td>14.443724</td>\n",
              "      <td>15.170463</td>\n",
              "      <td>8.304367</td>\n",
              "      <td>9.794867</td>\n",
              "      <td>0.788930</td>\n",
              "      <td>63.122710</td>\n",
              "    </tr>\n",
              "    <tr>\n",
              "      <th>min</th>\n",
              "      <td>20.000000</td>\n",
              "      <td>133.000000</td>\n",
              "      <td>43.000000</td>\n",
              "      <td>1.000000</td>\n",
              "      <td>73.000000</td>\n",
              "      <td>37.700000</td>\n",
              "      <td>3.000000</td>\n",
              "    </tr>\n",
              "    <tr>\n",
              "      <th>25%</th>\n",
              "      <td>28.000000</td>\n",
              "      <td>163.000000</td>\n",
              "      <td>62.000000</td>\n",
              "      <td>9.000000</td>\n",
              "      <td>88.000000</td>\n",
              "      <td>39.650000</td>\n",
              "      <td>38.500000</td>\n",
              "    </tr>\n",
              "    <tr>\n",
              "      <th>50%</th>\n",
              "      <td>39.000000</td>\n",
              "      <td>174.000000</td>\n",
              "      <td>73.000000</td>\n",
              "      <td>17.000000</td>\n",
              "      <td>96.000000</td>\n",
              "      <td>40.300000</td>\n",
              "      <td>87.000000</td>\n",
              "    </tr>\n",
              "    <tr>\n",
              "      <th>75%</th>\n",
              "      <td>56.000000</td>\n",
              "      <td>184.000000</td>\n",
              "      <td>86.000000</td>\n",
              "      <td>23.000000</td>\n",
              "      <td>103.500000</td>\n",
              "      <td>40.650000</td>\n",
              "      <td>143.000000</td>\n",
              "    </tr>\n",
              "    <tr>\n",
              "      <th>max</th>\n",
              "      <td>79.000000</td>\n",
              "      <td>205.000000</td>\n",
              "      <td>112.000000</td>\n",
              "      <td>30.000000</td>\n",
              "      <td>115.000000</td>\n",
              "      <td>41.400000</td>\n",
              "      <td>257.000000</td>\n",
              "    </tr>\n",
              "  </tbody>\n",
              "</table>\n",
              "</div>\n",
              "      <button class=\"colab-df-convert\" onclick=\"convertToInteractive('df-5c3157b0-069a-4af2-8752-107b87e03b1a')\"\n",
              "              title=\"Convert this dataframe to an interactive table.\"\n",
              "              style=\"display:none;\">\n",
              "        \n",
              "  <svg xmlns=\"http://www.w3.org/2000/svg\" height=\"24px\"viewBox=\"0 0 24 24\"\n",
              "       width=\"24px\">\n",
              "    <path d=\"M0 0h24v24H0V0z\" fill=\"none\"/>\n",
              "    <path d=\"M18.56 5.44l.94 2.06.94-2.06 2.06-.94-2.06-.94-.94-2.06-.94 2.06-2.06.94zm-11 1L8.5 8.5l.94-2.06 2.06-.94-2.06-.94L8.5 2.5l-.94 2.06-2.06.94zm10 10l.94 2.06.94-2.06 2.06-.94-2.06-.94-.94-2.06-.94 2.06-2.06.94z\"/><path d=\"M17.41 7.96l-1.37-1.37c-.4-.4-.92-.59-1.43-.59-.52 0-1.04.2-1.43.59L10.3 9.45l-7.72 7.72c-.78.78-.78 2.05 0 2.83L4 21.41c.39.39.9.59 1.41.59.51 0 1.02-.2 1.41-.59l7.78-7.78 2.81-2.81c.8-.78.8-2.07 0-2.86zM5.41 20L4 18.59l7.72-7.72 1.47 1.35L5.41 20z\"/>\n",
              "  </svg>\n",
              "      </button>\n",
              "      \n",
              "  <style>\n",
              "    .colab-df-container {\n",
              "      display:flex;\n",
              "      flex-wrap:wrap;\n",
              "      gap: 12px;\n",
              "    }\n",
              "\n",
              "    .colab-df-convert {\n",
              "      background-color: #E8F0FE;\n",
              "      border: none;\n",
              "      border-radius: 50%;\n",
              "      cursor: pointer;\n",
              "      display: none;\n",
              "      fill: #1967D2;\n",
              "      height: 32px;\n",
              "      padding: 0 0 0 0;\n",
              "      width: 32px;\n",
              "    }\n",
              "\n",
              "    .colab-df-convert:hover {\n",
              "      background-color: #E2EBFA;\n",
              "      box-shadow: 0px 1px 2px rgba(60, 64, 67, 0.3), 0px 1px 3px 1px rgba(60, 64, 67, 0.15);\n",
              "      fill: #174EA6;\n",
              "    }\n",
              "\n",
              "    [theme=dark] .colab-df-convert {\n",
              "      background-color: #3B4455;\n",
              "      fill: #D2E3FC;\n",
              "    }\n",
              "\n",
              "    [theme=dark] .colab-df-convert:hover {\n",
              "      background-color: #434B5C;\n",
              "      box-shadow: 0px 1px 3px 1px rgba(0, 0, 0, 0.15);\n",
              "      filter: drop-shadow(0px 1px 2px rgba(0, 0, 0, 0.3));\n",
              "      fill: #FFFFFF;\n",
              "    }\n",
              "  </style>\n",
              "\n",
              "      <script>\n",
              "        const buttonEl =\n",
              "          document.querySelector('#df-5c3157b0-069a-4af2-8752-107b87e03b1a button.colab-df-convert');\n",
              "        buttonEl.style.display =\n",
              "          google.colab.kernel.accessAllowed ? 'block' : 'none';\n",
              "\n",
              "        async function convertToInteractive(key) {\n",
              "          const element = document.querySelector('#df-5c3157b0-069a-4af2-8752-107b87e03b1a');\n",
              "          const dataTable =\n",
              "            await google.colab.kernel.invokeFunction('convertToInteractive',\n",
              "                                                     [key], {});\n",
              "          if (!dataTable) return;\n",
              "\n",
              "          const docLinkHtml = 'Like what you see? Visit the ' +\n",
              "            '<a target=\"_blank\" href=https://colab.research.google.com/notebooks/data_table.ipynb>data table notebook</a>'\n",
              "            + ' to learn more about interactive tables.';\n",
              "          element.innerHTML = '';\n",
              "          dataTable['output_type'] = 'display_data';\n",
              "          await google.colab.output.renderOutput(dataTable, element);\n",
              "          const docLink = document.createElement('div');\n",
              "          docLink.innerHTML = docLinkHtml;\n",
              "          element.appendChild(docLink);\n",
              "        }\n",
              "      </script>\n",
              "    </div>\n",
              "  </div>\n",
              "  "
            ],
            "text/plain": [
              "              Age      Height      Weight    Duration  Heart_Rate   Body_Temp  \\\n",
              "count  343.000000  343.000000  343.000000  343.000000  343.000000  343.000000   \n",
              "mean    42.364431  173.749271   74.641399   16.072886   95.860058   40.074927   \n",
              "std     16.555016   14.443724   15.170463    8.304367    9.794867    0.788930   \n",
              "min     20.000000  133.000000   43.000000    1.000000   73.000000   37.700000   \n",
              "25%     28.000000  163.000000   62.000000    9.000000   88.000000   39.650000   \n",
              "50%     39.000000  174.000000   73.000000   17.000000   96.000000   40.300000   \n",
              "75%     56.000000  184.000000   86.000000   23.000000  103.500000   40.650000   \n",
              "max     79.000000  205.000000  112.000000   30.000000  115.000000   41.400000   \n",
              "\n",
              "         Calories  \n",
              "count  343.000000  \n",
              "mean    94.008746  \n",
              "std     63.122710  \n",
              "min      3.000000  \n",
              "25%     38.500000  \n",
              "50%     87.000000  \n",
              "75%    143.000000  \n",
              "max    257.000000  "
            ]
          },
          "metadata": {},
          "execution_count": 124
        }
      ],
      "source": [
        "#get some statistical measures about the data\n",
        "calories_data.describe()"
      ]
    },
    {
      "cell_type": "code",
      "execution_count": null,
      "metadata": {
        "colab": {
          "base_uri": "https://localhost:8080/",
          "height": 357
        },
        "id": "GbdgPKv713OH",
        "outputId": "4b88cb9e-0a47-4b1b-e43f-55aabf32d0a3"
      },
      "outputs": [
        {
          "output_type": "stream",
          "name": "stderr",
          "text": [
            "/usr/local/lib/python3.7/dist-packages/seaborn/_decorators.py:43: FutureWarning: Pass the following variable as a keyword arg: x. From version 0.12, the only valid positional argument will be `data`, and passing other arguments without an explicit keyword will result in an error or misinterpretation.\n",
            "  FutureWarning\n"
          ]
        },
        {
          "output_type": "execute_result",
          "data": {
            "text/plain": [
              "<matplotlib.axes._subplots.AxesSubplot at 0x7f75290242d0>"
            ]
          },
          "metadata": {},
          "execution_count": 125
        },
        {
          "output_type": "display_data",
          "data": {
            "image/png": "[encoded data removed]",
            "text/plain": [
              "<Figure size 432x288 with 1 Axes>"
            ]
          },
          "metadata": {}
        }
      ],
      "source": [
        "sns.set()\n",
        "#plotting the gender col in count plot\n",
        "sns.countplot(calories_data['Gender'])"
      ]
    },
    {
      "cell_type": "markdown",
      "metadata": {
        "id": "uo8h6OuH-jnq"
      },
      "source": [
        "Finding the correlation in the dataset\n",
        "1. positive\n",
        "2. negative"
      ]
    },
    {
      "cell_type": "code",
      "execution_count": null,
      "metadata": {
        "id": "5SoE1uhj2Lyj"
      },
      "outputs": [],
      "source": [
        "correlation = calories_data.corr()"
      ]
    },
    {
      "cell_type": "code",
      "execution_count": null,
      "metadata": {
        "id": "mFP5W7co2RPh",
        "colab": {
          "base_uri": "https://localhost:8080/",
          "height": 206
        },
        "outputId": "b3055ea0-c0ee-41a6-99fd-8cfd30cb1ef2"
      },
      "outputs": [
        {
          "output_type": "execute_result",
          "data": {
            "text/html": [
              "\n",
              "  <div id=\"df-637e79df-bf62-4706-9099-c8a463a3ed11\">\n",
              "    <div class=\"colab-df-container\">\n",
              "      <div>\n",
              "<style scoped>\n",
              "    .dataframe tbody tr th:only-of-type {\n",
              "        vertical-align: middle;\n",
              "    }\n",
              "\n",
              "    .dataframe tbody tr th {\n",
              "        vertical-align: top;\n",
              "    }\n",
              "\n",
              "    .dataframe thead th {\n",
              "        text-align: right;\n",
              "    }\n",
              "</style>\n",
              "<table border=\"1\" class=\"dataframe\">\n",
              "  <thead>\n",
              "    <tr style=\"text-align: right;\">\n",
              "      <th></th>\n",
              "      <th>Gender</th>\n",
              "      <th>Age</th>\n",
              "      <th>Height</th>\n",
              "      <th>Weight</th>\n",
              "      <th>Duration</th>\n",
              "      <th>Heart_Rate</th>\n",
              "      <th>Body_Temp</th>\n",
              "      <th>Calories</th>\n",
              "    </tr>\n",
              "  </thead>\n",
              "  <tbody>\n",
              "    <tr>\n",
              "      <th>0</th>\n",
              "      <td>0</td>\n",
              "      <td>31</td>\n",
              "      <td>198</td>\n",
              "      <td>99</td>\n",
              "      <td>28</td>\n",
              "      <td>107</td>\n",
              "      <td>40.9</td>\n",
              "      <td>185</td>\n",
              "    </tr>\n",
              "    <tr>\n",
              "      <th>1</th>\n",
              "      <td>0</td>\n",
              "      <td>21</td>\n",
              "      <td>160</td>\n",
              "      <td>68</td>\n",
              "      <td>6</td>\n",
              "      <td>90</td>\n",
              "      <td>39.4</td>\n",
              "      <td>17</td>\n",
              "    </tr>\n",
              "    <tr>\n",
              "      <th>2</th>\n",
              "      <td>0</td>\n",
              "      <td>44</td>\n",
              "      <td>171</td>\n",
              "      <td>80</td>\n",
              "      <td>26</td>\n",
              "      <td>112</td>\n",
              "      <td>40.8</td>\n",
              "      <td>197</td>\n",
              "    </tr>\n",
              "    <tr>\n",
              "      <th>3</th>\n",
              "      <td>1</td>\n",
              "      <td>32</td>\n",
              "      <td>162</td>\n",
              "      <td>65</td>\n",
              "      <td>16</td>\n",
              "      <td>94</td>\n",
              "      <td>40.1</td>\n",
              "      <td>78</td>\n",
              "    </tr>\n",
              "    <tr>\n",
              "      <th>4</th>\n",
              "      <td>1</td>\n",
              "      <td>20</td>\n",
              "      <td>156</td>\n",
              "      <td>51</td>\n",
              "      <td>20</td>\n",
              "      <td>88</td>\n",
              "      <td>40.5</td>\n",
              "      <td>84</td>\n",
              "    </tr>\n",
              "  </tbody>\n",
              "</table>\n",
              "</div>\n",
              "      <button class=\"colab-df-convert\" onclick=\"convertToInteractive('df-637e79df-bf62-4706-9099-c8a463a3ed11')\"\n",
              "              title=\"Convert this dataframe to an interactive table.\"\n",
              "              style=\"display:none;\">\n",
              "        \n",
              "  <svg xmlns=\"http://www.w3.org/2000/svg\" height=\"24px\"viewBox=\"0 0 24 24\"\n",
              "       width=\"24px\">\n",
              "    <path d=\"M0 0h24v24H0V0z\" fill=\"none\"/>\n",
              "    <path d=\"M18.56 5.44l.94 2.06.94-2.06 2.06-.94-2.06-.94-.94-2.06-.94 2.06-2.06.94zm-11 1L8.5 8.5l.94-2.06 2.06-.94-2.06-.94L8.5 2.5l-.94 2.06-2.06.94zm10 10l.94 2.06.94-2.06 2.06-.94-2.06-.94-.94-2.06-.94 2.06-2.06.94z\"/><path d=\"M17.41 7.96l-1.37-1.37c-.4-.4-.92-.59-1.43-.59-.52 0-1.04.2-1.43.59L10.3 9.45l-7.72 7.72c-.78.78-.78 2.05 0 2.83L4 21.41c.39.39.9.59 1.41.59.51 0 1.02-.2 1.41-.59l7.78-7.78 2.81-2.81c.8-.78.8-2.07 0-2.86zM5.41 20L4 18.59l7.72-7.72 1.47 1.35L5.41 20z\"/>\n",
              "  </svg>\n",
              "      </button>\n",
              "      \n",
              "  <style>\n",
              "    .colab-df-container {\n",
              "      display:flex;\n",
              "      flex-wrap:wrap;\n",
              "      gap: 12px;\n",
              "    }\n",
              "\n",
              "    .colab-df-convert {\n",
              "      background-color: #E8F0FE;\n",
              "      border: none;\n",
              "      border-radius: 50%;\n",
              "      cursor: pointer;\n",
              "      display: none;\n",
              "      fill: #1967D2;\n",
              "      height: 32px;\n",
              "      padding: 0 0 0 0;\n",
              "      width: 32px;\n",
              "    }\n",
              "\n",
              "    .colab-df-convert:hover {\n",
              "      background-color: #E2EBFA;\n",
              "      box-shadow: 0px 1px 2px rgba(60, 64, 67, 0.3), 0px 1px 3px 1px rgba(60, 64, 67, 0.15);\n",
              "      fill: #174EA6;\n",
              "    }\n",
              "\n",
              "    [theme=dark] .colab-df-convert {\n",
              "      background-color: #3B4455;\n",
              "      fill: #D2E3FC;\n",
              "    }\n",
              "\n",
              "    [theme=dark] .colab-df-convert:hover {\n",
              "      background-color: #434B5C;\n",
              "      box-shadow: 0px 1px 3px 1px rgba(0, 0, 0, 0.15);\n",
              "      filter: drop-shadow(0px 1px 2px rgba(0, 0, 0, 0.3));\n",
              "      fill: #FFFFFF;\n",
              "    }\n",
              "  </style>\n",
              "\n",
              "      <script>\n",
              "        const buttonEl =\n",
              "          document.querySelector('#df-637e79df-bf62-4706-9099-c8a463a3ed11 button.colab-df-convert');\n",
              "        buttonEl.style.display =\n",
              "          google.colab.kernel.accessAllowed ? 'block' : 'none';\n",
              "\n",
              "        async function convertToInteractive(key) {\n",
              "          const element = document.querySelector('#df-637e79df-bf62-4706-9099-c8a463a3ed11');\n",
              "          const dataTable =\n",
              "            await google.colab.kernel.invokeFunction('convertToInteractive',\n",
              "                                                     [key], {});\n",
              "          if (!dataTable) return;\n",
              "\n",
              "          const docLinkHtml = 'Like what you see? Visit the ' +\n",
              "            '<a target=\"_blank\" href=https://colab.research.google.com/notebooks/data_table.ipynb>data table notebook</a>'\n",
              "            + ' to learn more about interactive tables.';\n",
              "          element.innerHTML = '';\n",
              "          dataTable['output_type'] = 'display_data';\n",
              "          await google.colab.output.renderOutput(dataTable, element);\n",
              "          const docLink = document.createElement('div');\n",
              "          docLink.innerHTML = docLinkHtml;\n",
              "          element.appendChild(docLink);\n",
              "        }\n",
              "      </script>\n",
              "    </div>\n",
              "  </div>\n",
              "  "
            ],
            "text/plain": [
              "   Gender  Age  Height  Weight  Duration  Heart_Rate  Body_Temp  Calories\n",
              "0       0   31     198      99        28         107       40.9       185\n",
              "1       0   21     160      68         6          90       39.4        17\n",
              "2       0   44     171      80        26         112       40.8       197\n",
              "3       1   32     162      65        16          94       40.1        78\n",
              "4       1   20     156      51        20          88       40.5        84"
            ]
          },
          "metadata": {},
          "execution_count": 127
        }
      ],
      "source": [
        "calories_data.replace({\"Gender\": {'male':0, 'female':1}}, inplace= True)\n",
        "calories_data.head()"
      ]
    },
    {
      "cell_type": "code",
      "execution_count": null,
      "metadata": {
        "colab": {
          "base_uri": "https://localhost:8080/",
          "height": 424
        },
        "id": "03AigfMuEbFr",
        "outputId": "1fd821a1-ad49-4cee-a067-7e19fad6ff0b"
      },
      "outputs": [
        {
          "output_type": "execute_result",
          "data": {
            "text/html": [
              "\n",
              "  <div id=\"df-ecc66dc7-cf70-45a4-bd83-757162a0fd21\">\n",
              "    <div class=\"colab-df-container\">\n",
              "      <div>\n",
              "<style scoped>\n",
              "    .dataframe tbody tr th:only-of-type {\n",
              "        vertical-align: middle;\n",
              "    }\n",
              "\n",
              "    .dataframe tbody tr th {\n",
              "        vertical-align: top;\n",
              "    }\n",
              "\n",
              "    .dataframe thead th {\n",
              "        text-align: right;\n",
              "    }\n",
              "</style>\n",
              "<table border=\"1\" class=\"dataframe\">\n",
              "  <thead>\n",
              "    <tr style=\"text-align: right;\">\n",
              "      <th></th>\n",
              "      <th>Gender</th>\n",
              "      <th>Age</th>\n",
              "      <th>Height</th>\n",
              "      <th>Weight</th>\n",
              "      <th>Duration</th>\n",
              "      <th>Heart_Rate</th>\n",
              "      <th>Body_Temp</th>\n",
              "      <th>Calories</th>\n",
              "    </tr>\n",
              "  </thead>\n",
              "  <tbody>\n",
              "    <tr>\n",
              "      <th>0</th>\n",
              "      <td>0</td>\n",
              "      <td>31</td>\n",
              "      <td>198</td>\n",
              "      <td>99</td>\n",
              "      <td>28</td>\n",
              "      <td>107</td>\n",
              "      <td>40.9</td>\n",
              "      <td>185</td>\n",
              "    </tr>\n",
              "    <tr>\n",
              "      <th>1</th>\n",
              "      <td>0</td>\n",
              "      <td>21</td>\n",
              "      <td>160</td>\n",
              "      <td>68</td>\n",
              "      <td>6</td>\n",
              "      <td>90</td>\n",
              "      <td>39.4</td>\n",
              "      <td>17</td>\n",
              "    </tr>\n",
              "    <tr>\n",
              "      <th>2</th>\n",
              "      <td>0</td>\n",
              "      <td>44</td>\n",
              "      <td>171</td>\n",
              "      <td>80</td>\n",
              "      <td>26</td>\n",
              "      <td>112</td>\n",
              "      <td>40.8</td>\n",
              "      <td>197</td>\n",
              "    </tr>\n",
              "    <tr>\n",
              "      <th>3</th>\n",
              "      <td>1</td>\n",
              "      <td>32</td>\n",
              "      <td>162</td>\n",
              "      <td>65</td>\n",
              "      <td>16</td>\n",
              "      <td>94</td>\n",
              "      <td>40.1</td>\n",
              "      <td>78</td>\n",
              "    </tr>\n",
              "    <tr>\n",
              "      <th>4</th>\n",
              "      <td>1</td>\n",
              "      <td>20</td>\n",
              "      <td>156</td>\n",
              "      <td>51</td>\n",
              "      <td>20</td>\n",
              "      <td>88</td>\n",
              "      <td>40.5</td>\n",
              "      <td>84</td>\n",
              "    </tr>\n",
              "    <tr>\n",
              "      <th>...</th>\n",
              "      <td>...</td>\n",
              "      <td>...</td>\n",
              "      <td>...</td>\n",
              "      <td>...</td>\n",
              "      <td>...</td>\n",
              "      <td>...</td>\n",
              "      <td>...</td>\n",
              "      <td>...</td>\n",
              "    </tr>\n",
              "    <tr>\n",
              "      <th>338</th>\n",
              "      <td>1</td>\n",
              "      <td>30</td>\n",
              "      <td>163</td>\n",
              "      <td>58</td>\n",
              "      <td>22</td>\n",
              "      <td>109</td>\n",
              "      <td>40.5</td>\n",
              "      <td>143</td>\n",
              "    </tr>\n",
              "    <tr>\n",
              "      <th>339</th>\n",
              "      <td>1</td>\n",
              "      <td>33</td>\n",
              "      <td>163</td>\n",
              "      <td>57</td>\n",
              "      <td>4</td>\n",
              "      <td>84</td>\n",
              "      <td>38.7</td>\n",
              "      <td>16</td>\n",
              "    </tr>\n",
              "    <tr>\n",
              "      <th>340</th>\n",
              "      <td>0</td>\n",
              "      <td>38</td>\n",
              "      <td>189</td>\n",
              "      <td>91</td>\n",
              "      <td>24</td>\n",
              "      <td>100</td>\n",
              "      <td>40.5</td>\n",
              "      <td>137</td>\n",
              "    </tr>\n",
              "    <tr>\n",
              "      <th>341</th>\n",
              "      <td>0</td>\n",
              "      <td>20</td>\n",
              "      <td>183</td>\n",
              "      <td>81</td>\n",
              "      <td>17</td>\n",
              "      <td>97</td>\n",
              "      <td>40.5</td>\n",
              "      <td>71</td>\n",
              "    </tr>\n",
              "    <tr>\n",
              "      <th>342</th>\n",
              "      <td>1</td>\n",
              "      <td>67</td>\n",
              "      <td>159</td>\n",
              "      <td>62</td>\n",
              "      <td>13</td>\n",
              "      <td>94</td>\n",
              "      <td>40.2</td>\n",
              "      <td>72</td>\n",
              "    </tr>\n",
              "  </tbody>\n",
              "</table>\n",
              "<p>343 rows × 8 columns</p>\n",
              "</div>\n",
              "      <button class=\"colab-df-convert\" onclick=\"convertToInteractive('df-ecc66dc7-cf70-45a4-bd83-757162a0fd21')\"\n",
              "              title=\"Convert this dataframe to an interactive table.\"\n",
              "              style=\"display:none;\">\n",
              "        \n",
              "  <svg xmlns=\"http://www.w3.org/2000/svg\" height=\"24px\"viewBox=\"0 0 24 24\"\n",
              "       width=\"24px\">\n",
              "    <path d=\"M0 0h24v24H0V0z\" fill=\"none\"/>\n",
              "    <path d=\"M18.56 5.44l.94 2.06.94-2.06 2.06-.94-2.06-.94-.94-2.06-.94 2.06-2.06.94zm-11 1L8.5 8.5l.94-2.06 2.06-.94-2.06-.94L8.5 2.5l-.94 2.06-2.06.94zm10 10l.94 2.06.94-2.06 2.06-.94-2.06-.94-.94-2.06-.94 2.06-2.06.94z\"/><path d=\"M17.41 7.96l-1.37-1.37c-.4-.4-.92-.59-1.43-.59-.52 0-1.04.2-1.43.59L10.3 9.45l-7.72 7.72c-.78.78-.78 2.05 0 2.83L4 21.41c.39.39.9.59 1.41.59.51 0 1.02-.2 1.41-.59l7.78-7.78 2.81-2.81c.8-.78.8-2.07 0-2.86zM5.41 20L4 18.59l7.72-7.72 1.47 1.35L5.41 20z\"/>\n",
              "  </svg>\n",
              "      </button>\n",
              "      \n",
              "  <style>\n",
              "    .colab-df-container {\n",
              "      display:flex;\n",
              "      flex-wrap:wrap;\n",
              "      gap: 12px;\n",
              "    }\n",
              "\n",
              "    .colab-df-convert {\n",
              "      background-color: #E8F0FE;\n",
              "      border: none;\n",
              "      border-radius: 50%;\n",
              "      cursor: pointer;\n",
              "      display: none;\n",
              "      fill: #1967D2;\n",
              "      height: 32px;\n",
              "      padding: 0 0 0 0;\n",
              "      width: 32px;\n",
              "    }\n",
              "\n",
              "    .colab-df-convert:hover {\n",
              "      background-color: #E2EBFA;\n",
              "      box-shadow: 0px 1px 2px rgba(60, 64, 67, 0.3), 0px 1px 3px 1px rgba(60, 64, 67, 0.15);\n",
              "      fill: #174EA6;\n",
              "    }\n",
              "\n",
              "    [theme=dark] .colab-df-convert {\n",
              "      background-color: #3B4455;\n",
              "      fill: #D2E3FC;\n",
              "    }\n",
              "\n",
              "    [theme=dark] .colab-df-convert:hover {\n",
              "      background-color: #434B5C;\n",
              "      box-shadow: 0px 1px 3px 1px rgba(0, 0, 0, 0.15);\n",
              "      filter: drop-shadow(0px 1px 2px rgba(0, 0, 0, 0.3));\n",
              "      fill: #FFFFFF;\n",
              "    }\n",
              "  </style>\n",
              "\n",
              "      <script>\n",
              "        const buttonEl =\n",
              "          document.querySelector('#df-ecc66dc7-cf70-45a4-bd83-757162a0fd21 button.colab-df-convert');\n",
              "        buttonEl.style.display =\n",
              "          google.colab.kernel.accessAllowed ? 'block' : 'none';\n",
              "\n",
              "        async function convertToInteractive(key) {\n",
              "          const element = document.querySelector('#df-ecc66dc7-cf70-45a4-bd83-757162a0fd21');\n",
              "          const dataTable =\n",
              "            await google.colab.kernel.invokeFunction('convertToInteractive',\n",
              "                                                     [key], {});\n",
              "          if (!dataTable) return;\n",
              "\n",
              "          const docLinkHtml = 'Like what you see? Visit the ' +\n",
              "            '<a target=\"_blank\" href=https://colab.research.google.com/notebooks/data_table.ipynb>data table notebook</a>'\n",
              "            + ' to learn more about interactive tables.';\n",
              "          element.innerHTML = '';\n",
              "          dataTable['output_type'] = 'display_data';\n",
              "          await google.colab.output.renderOutput(dataTable, element);\n",
              "          const docLink = document.createElement('div');\n",
              "          docLink.innerHTML = docLinkHtml;\n",
              "          element.appendChild(docLink);\n",
              "        }\n",
              "      </script>\n",
              "    </div>\n",
              "  </div>\n",
              "  "
            ],
            "text/plain": [
              "     Gender  Age  Height  Weight  Duration  Heart_Rate  Body_Temp  Calories\n",
              "0         0   31     198      99        28         107       40.9       185\n",
              "1         0   21     160      68         6          90       39.4        17\n",
              "2         0   44     171      80        26         112       40.8       197\n",
              "3         1   32     162      65        16          94       40.1        78\n",
              "4         1   20     156      51        20          88       40.5        84\n",
              "..      ...  ...     ...     ...       ...         ...        ...       ...\n",
              "338       1   30     163      58        22         109       40.5       143\n",
              "339       1   33     163      57         4          84       38.7        16\n",
              "340       0   38     189      91        24         100       40.5       137\n",
              "341       0   20     183      81        17          97       40.5        71\n",
              "342       1   67     159      62        13          94       40.2        72\n",
              "\n",
              "[343 rows x 8 columns]"
            ]
          },
          "metadata": {},
          "execution_count": 128
        }
      ],
      "source": [
        "calories_data"
      ]
    },
    {
      "cell_type": "code",
      "source": [
        "from sklearn.preprocessing import StandardScaler\n",
        "from sklearn.metrics import mean_squared_error as MSE\n",
        "from sklearn.metrics import mean_absolute_error as MAE\n",
        "from sklearn.metrics import r2_score as r2\n",
        "\n",
        "X= calories_data.iloc[:,0:7].values\n",
        "Y= calories_data.iloc[:,7:8].values\n",
        "scale = StandardScaler()\n",
        "X= scale.fit_transform(X)\n",
        "Y= scale.fit_transform(Y)\n",
        "\n",
        "\n",
        "from sklearn.model_selection import train_test_split\n",
        "X_train, X_test, Y_train, Y_test = train_test_split(X,Y,test_size=.2,random_state=0)"
      ],
      "metadata": {
        "id": "WMhEwX1_I5gR"
      },
      "execution_count": null,
      "outputs": []
    },
    {
      "cell_type": "markdown",
      "metadata": {
        "id": "ZLG0Tqoi2gls"
      },
      "source": [
        "Separating features and targets"
      ]
    },
    {
      "cell_type": "code",
      "execution_count": null,
      "metadata": {
        "id": "Tzg3bX_72VRn"
      },
      "outputs": [],
      "source": [
        "#X= calories_data.drop(columns=['Calories'], axis=1)\n",
        "#Y= calories_data['Calories']\n",
        "\n"
      ]
    },
    {
      "cell_type": "code",
      "execution_count": null,
      "metadata": {
        "colab": {
          "base_uri": "https://localhost:8080/"
        },
        "id": "LWLvpYlW2mPr",
        "outputId": "94f14bd2-9e5d-437a-9362-940bc7d8927c"
      },
      "outputs": [
        {
          "output_type": "execute_result",
          "data": {
            "text/plain": [
              "array([[  0. ,  31. , 198. , ...,  28. , 107. ,  40.9],\n",
              "       [  0. ,  21. , 160. , ...,   6. ,  90. ,  39.4],\n",
              "       [  0. ,  44. , 171. , ...,  26. , 112. ,  40.8],\n",
              "       ...,\n",
              "       [  0. ,  38. , 189. , ...,  24. , 100. ,  40.5],\n",
              "       [  0. ,  20. , 183. , ...,  17. ,  97. ,  40.5],\n",
              "       [  1. ,  67. , 159. , ...,  13. ,  94. ,  40.2]])"
            ]
          },
          "metadata": {},
          "execution_count": 131
        }
      ],
      "source": [
        "X"
      ]
    },
    {
      "cell_type": "code",
      "execution_count": null,
      "metadata": {
        "colab": {
          "base_uri": "https://localhost:8080/"
        },
        "id": "OfVu9Mo92nX3",
        "outputId": "1bbd10f6-b902-41af-896c-57306f61ab54"
      },
      "outputs": [
        {
          "output_type": "execute_result",
          "data": {
            "text/plain": [
              "array([[185],\n",
              "       [ 17],\n",
              "       [197],\n",
              "       [ 78],\n",
              "       [ 84],\n",
              "       [ 12],\n",
              "       [128],\n",
              "       [115],\n",
              "       [ 17],\n",
              "       [154],\n",
              "       [104],\n",
              "       [ 87],\n",
              "       [206],\n",
              "       [ 43],\n",
              "       [ 63],\n",
              "       [137],\n",
              "       [ 31],\n",
              "       [ 22],\n",
              "       [ 40],\n",
              "       [122],\n",
              "       [102],\n",
              "       [198],\n",
              "       [178],\n",
              "       [109],\n",
              "       [150],\n",
              "       [121],\n",
              "       [ 25],\n",
              "       [ 69],\n",
              "       [169],\n",
              "       [ 37],\n",
              "       [114],\n",
              "       [ 62],\n",
              "       [ 97],\n",
              "       [ 91],\n",
              "       [ 80],\n",
              "       [204],\n",
              "       [151],\n",
              "       [ 20],\n",
              "       [133],\n",
              "       [ 64],\n",
              "       [ 24],\n",
              "       [ 60],\n",
              "       [183],\n",
              "       [ 38],\n",
              "       [110],\n",
              "       [117],\n",
              "       [164],\n",
              "       [ 67],\n",
              "       [  8],\n",
              "       [ 73],\n",
              "       [ 15],\n",
              "       [ 65],\n",
              "       [ 37],\n",
              "       [121],\n",
              "       [ 71],\n",
              "       [117],\n",
              "       [ 23],\n",
              "       [166],\n",
              "       [ 95],\n",
              "       [  3],\n",
              "       [143],\n",
              "       [  4],\n",
              "       [205],\n",
              "       [ 76],\n",
              "       [ 41],\n",
              "       [ 78],\n",
              "       [  5],\n",
              "       [ 23],\n",
              "       [232],\n",
              "       [100],\n",
              "       [ 84],\n",
              "       [ 48],\n",
              "       [142],\n",
              "       [  8],\n",
              "       [  7],\n",
              "       [149],\n",
              "       [106],\n",
              "       [ 62],\n",
              "       [ 89],\n",
              "       [179],\n",
              "       [ 39],\n",
              "       [207],\n",
              "       [  7],\n",
              "       [ 65],\n",
              "       [ 25],\n",
              "       [ 73],\n",
              "       [108],\n",
              "       [185],\n",
              "       [108],\n",
              "       [115],\n",
              "       [ 30],\n",
              "       [190],\n",
              "       [ 59],\n",
              "       [ 46],\n",
              "       [231],\n",
              "       [ 66],\n",
              "       [ 26],\n",
              "       [ 71],\n",
              "       [ 35],\n",
              "       [123],\n",
              "       [112],\n",
              "       [143],\n",
              "       [134],\n",
              "       [ 72],\n",
              "       [  3],\n",
              "       [ 92],\n",
              "       [ 58],\n",
              "       [ 88],\n",
              "       [  7],\n",
              "       [170],\n",
              "       [ 11],\n",
              "       [ 43],\n",
              "       [ 15],\n",
              "       [ 74],\n",
              "       [ 29],\n",
              "       [ 32],\n",
              "       [ 10],\n",
              "       [155],\n",
              "       [  3],\n",
              "       [ 24],\n",
              "       [ 12],\n",
              "       [ 10],\n",
              "       [195],\n",
              "       [  5],\n",
              "       [ 69],\n",
              "       [136],\n",
              "       [ 80],\n",
              "       [107],\n",
              "       [200],\n",
              "       [ 56],\n",
              "       [ 50],\n",
              "       [100],\n",
              "       [200],\n",
              "       [  4],\n",
              "       [ 70],\n",
              "       [127],\n",
              "       [197],\n",
              "       [113],\n",
              "       [ 11],\n",
              "       [ 82],\n",
              "       [ 26],\n",
              "       [141],\n",
              "       [ 92],\n",
              "       [  5],\n",
              "       [ 30],\n",
              "       [  3],\n",
              "       [ 37],\n",
              "       [147],\n",
              "       [  8],\n",
              "       [159],\n",
              "       [ 93],\n",
              "       [173],\n",
              "       [ 89],\n",
              "       [ 31],\n",
              "       [ 35],\n",
              "       [ 94],\n",
              "       [ 49],\n",
              "       [ 54],\n",
              "       [117],\n",
              "       [173],\n",
              "       [ 99],\n",
              "       [ 45],\n",
              "       [166],\n",
              "       [202],\n",
              "       [107],\n",
              "       [199],\n",
              "       [ 25],\n",
              "       [ 23],\n",
              "       [200],\n",
              "       [  6],\n",
              "       [  7],\n",
              "       [113],\n",
              "       [188],\n",
              "       [103],\n",
              "       [128],\n",
              "       [130],\n",
              "       [ 27],\n",
              "       [185],\n",
              "       [ 57],\n",
              "       [ 65],\n",
              "       [ 91],\n",
              "       [120],\n",
              "       [ 70],\n",
              "       [ 39],\n",
              "       [136],\n",
              "       [ 77],\n",
              "       [ 42],\n",
              "       [ 41],\n",
              "       [ 59],\n",
              "       [179],\n",
              "       [  6],\n",
              "       [ 13],\n",
              "       [147],\n",
              "       [180],\n",
              "       [101],\n",
              "       [150],\n",
              "       [179],\n",
              "       [ 23],\n",
              "       [ 10],\n",
              "       [ 39],\n",
              "       [247],\n",
              "       [ 89],\n",
              "       [141],\n",
              "       [ 18],\n",
              "       [ 70],\n",
              "       [185],\n",
              "       [ 54],\n",
              "       [207],\n",
              "       [189],\n",
              "       [  6],\n",
              "       [ 60],\n",
              "       [ 23],\n",
              "       [186],\n",
              "       [178],\n",
              "       [122],\n",
              "       [166],\n",
              "       [158],\n",
              "       [  7],\n",
              "       [143],\n",
              "       [ 43],\n",
              "       [ 86],\n",
              "       [128],\n",
              "       [182],\n",
              "       [ 52],\n",
              "       [236],\n",
              "       [114],\n",
              "       [ 64],\n",
              "       [171],\n",
              "       [ 19],\n",
              "       [144],\n",
              "       [ 37],\n",
              "       [185],\n",
              "       [ 60],\n",
              "       [127],\n",
              "       [149],\n",
              "       [ 78],\n",
              "       [ 24],\n",
              "       [143],\n",
              "       [143],\n",
              "       [ 71],\n",
              "       [ 58],\n",
              "       [ 71],\n",
              "       [ 20],\n",
              "       [ 78],\n",
              "       [ 93],\n",
              "       [ 17],\n",
              "       [ 12],\n",
              "       [115],\n",
              "       [119],\n",
              "       [168],\n",
              "       [ 44],\n",
              "       [192],\n",
              "       [ 96],\n",
              "       [135],\n",
              "       [ 54],\n",
              "       [239],\n",
              "       [ 69],\n",
              "       [ 46],\n",
              "       [115],\n",
              "       [ 17],\n",
              "       [190],\n",
              "       [ 48],\n",
              "       [178],\n",
              "       [ 20],\n",
              "       [ 64],\n",
              "       [ 95],\n",
              "       [196],\n",
              "       [  9],\n",
              "       [105],\n",
              "       [ 58],\n",
              "       [111],\n",
              "       [108],\n",
              "       [ 24],\n",
              "       [ 67],\n",
              "       [ 62],\n",
              "       [172],\n",
              "       [ 24],\n",
              "       [ 84],\n",
              "       [132],\n",
              "       [167],\n",
              "       [101],\n",
              "       [113],\n",
              "       [ 84],\n",
              "       [ 28],\n",
              "       [157],\n",
              "       [ 64],\n",
              "       [133],\n",
              "       [145],\n",
              "       [174],\n",
              "       [ 34],\n",
              "       [193],\n",
              "       [147],\n",
              "       [133],\n",
              "       [161],\n",
              "       [ 18],\n",
              "       [ 85],\n",
              "       [ 90],\n",
              "       [176],\n",
              "       [ 51],\n",
              "       [ 24],\n",
              "       [ 22],\n",
              "       [212],\n",
              "       [201],\n",
              "       [ 83],\n",
              "       [ 87],\n",
              "       [141],\n",
              "       [134],\n",
              "       [  5],\n",
              "       [201],\n",
              "       [  9],\n",
              "       [ 20],\n",
              "       [221],\n",
              "       [112],\n",
              "       [108],\n",
              "       [257],\n",
              "       [192],\n",
              "       [ 72],\n",
              "       [169],\n",
              "       [120],\n",
              "       [172],\n",
              "       [ 21],\n",
              "       [105],\n",
              "       [156],\n",
              "       [ 13],\n",
              "       [134],\n",
              "       [130],\n",
              "       [  7],\n",
              "       [140],\n",
              "       [ 34],\n",
              "       [ 34],\n",
              "       [ 44],\n",
              "       [ 42],\n",
              "       [  9],\n",
              "       [107],\n",
              "       [ 39],\n",
              "       [178],\n",
              "       [ 79],\n",
              "       [113],\n",
              "       [143],\n",
              "       [ 16],\n",
              "       [137],\n",
              "       [ 71],\n",
              "       [ 72]])"
            ]
          },
          "metadata": {},
          "execution_count": 132
        }
      ],
      "source": [
        "Y"
      ]
    },
    {
      "cell_type": "markdown",
      "metadata": {
        "id": "Xwc8zDHv2uDn"
      },
      "source": [
        "Splitting the data into Training data and test data"
      ]
    },
    {
      "cell_type": "code",
      "execution_count": null,
      "metadata": {
        "id": "kqGmoX662rvd"
      },
      "outputs": [],
      "source": [
        "#X_train, X_test, Y_train, Y_test= train_test_split(X,Y, test_size=0.2, random_state=0)"
      ]
    },
    {
      "cell_type": "code",
      "execution_count": null,
      "metadata": {
        "id": "fcCwvGkl3Mx8"
      },
      "outputs": [],
      "source": [
        "#print(X.shape, X_train.shape, X_test.shape)"
      ]
    },
    {
      "cell_type": "code",
      "execution_count": null,
      "metadata": {
        "id": "fqoWNv783NoO"
      },
      "outputs": [],
      "source": [
        "#print(Y.shape, Y_train.shape, Y_test.shape)"
      ]
    },
    {
      "cell_type": "markdown",
      "metadata": {
        "id": "V7jiaqp53big"
      },
      "source": [
        "MODEL "
      ]
    },
    {
      "cell_type": "markdown",
      "metadata": {
        "id": "wUkzYGiS3hJD"
      },
      "source": [
        "Linear"
      ]
    },
    {
      "cell_type": "code",
      "execution_count": null,
      "metadata": {
        "id": "vMkumQvs3cxY"
      },
      "outputs": [],
      "source": [
        "\n",
        "from sklearn.linear_model import LinearRegression\n",
        "regressor = LinearRegression()\n"
      ]
    },
    {
      "cell_type": "code",
      "execution_count": null,
      "metadata": {
        "colab": {
          "base_uri": "https://localhost:8080/"
        },
        "id": "H7MSoL7DJc0L",
        "outputId": "bf9621a5-4ced-4ba7-b2e8-15cafa6d3adf"
      },
      "outputs": [
        {
          "output_type": "execute_result",
          "data": {
            "text/plain": [
              "LinearRegression()"
            ]
          },
          "metadata": {},
          "execution_count": 137
        }
      ],
      "source": [
        "\n",
        "regressor.fit(X_train,Y_train)"
      ]
    },
    {
      "cell_type": "code",
      "execution_count": null,
      "metadata": {
        "id": "XsyLdtG_KrsQ"
      },
      "outputs": [],
      "source": []
    },
    {
      "cell_type": "code",
      "execution_count": null,
      "metadata": {
        "colab": {
          "base_uri": "https://localhost:8080/"
        },
        "id": "7rw1L0sG4AdT",
        "outputId": "c66f051b-d0b7-451b-fecd-98672a78ebcb"
      },
      "outputs": [
        {
          "output_type": "stream",
          "name": "stdout",
          "text": [
            "MSE of Linear Regression:  181.9795610942511\n",
            "RMSE of Linear Regression:  13.489980025717276\n",
            "MAE of Linear Regression:  10.490698160459669\n",
            "R_Square of Linear Regression:  0.955685317415508\n"
          ]
        },
        {
          "output_type": "execute_result",
          "data": {
            "text/plain": [
              "0.9717936071588099"
            ]
          },
          "metadata": {},
          "execution_count": 138
        }
      ],
      "source": [
        "y_pred = regressor.predict(X_test)\n",
        "y_pred\n",
        "mse_l = MSE(Y_test,y_pred)\n",
        "print(\"MSE of Linear Regression: \",mse_l)\n",
        "rmse_l = mse_l**(1/2)\n",
        "print(\"RMSE of Linear Regression: \",rmse_l)\n",
        "mae_l = MAE(Y_test,y_pred)\n",
        "print(\"MAE of Linear Regression: \",mae_l)\n",
        "rsquare_l = r2(Y_test,y_pred)\n",
        "print(\"R_Square of Linear Regression: \",rsquare_l)\n",
        "regressor.score(X,Y)"
      ]
    },
    {
      "cell_type": "markdown",
      "metadata": {
        "id": "ReVK8l6h4IoL"
      },
      "source": [
        "Polynomial"
      ]
    },
    {
      "cell_type": "code",
      "execution_count": null,
      "metadata": {
        "colab": {
          "base_uri": "https://localhost:8080/"
        },
        "id": "NzC8ORvC4J7M",
        "outputId": "05ee4691-4628-4a92-de43-8076b0286fe8"
      },
      "outputs": [
        {
          "output_type": "stream",
          "name": "stdout",
          "text": [
            "MSE of Polynomial Linear Regression:  0.7951215072816428\n",
            "RMSE of Polynomial Linear Regression:  0.891695860303076\n",
            "MAE of Polynomial Regression:  0.6601017720565416\n",
            "R_Square of Polynomial Regression:  0.999806376293033\n"
          ]
        },
        {
          "output_type": "execute_result",
          "data": {
            "text/plain": [
              "0.999806376293033"
            ]
          },
          "metadata": {},
          "execution_count": 139
        }
      ],
      "source": [
        "from sklearn.preprocessing import PolynomialFeatures\n",
        "poly = PolynomialFeatures(degree=3)\n",
        "x_poly = poly.fit_transform(X_train)\n",
        "poly.fit(X_train,Y_train)\n",
        "\n",
        "from sklearn.linear_model import LinearRegression\n",
        "model = LinearRegression()\n",
        "model.fit(x_poly,Y_train)\n",
        "\n",
        "\n",
        "y_pred = model.predict(poly.fit_transform(X_test))\n",
        "y_pred\n",
        "mse_p = MSE(Y_test,y_pred)\n",
        "print(\"MSE of Polynomial Linear Regression: \",mse_p)\n",
        "rmse_p = mse_p**(1/2)\n",
        "print(\"RMSE of Polynomial Linear Regression: \",rmse_p)\n",
        "mae_p = MAE(Y_test,y_pred)\n",
        "print(\"MAE of Polynomial Regression: \",mae_p)\n",
        "rsquare_p = r2(Y_test,y_pred)\n",
        "print(\"R_Square of Polynomial Regression: \",rsquare_p)\n",
        "model.score(poly.fit_transform(X_test),Y_test)"
      ]
    },
    {
      "cell_type": "markdown",
      "metadata": {
        "id": "ocNgZeTf4NTx"
      },
      "source": [
        "Random Forest"
      ]
    },
    {
      "cell_type": "code",
      "execution_count": null,
      "metadata": {
        "colab": {
          "base_uri": "https://localhost:8080/"
        },
        "id": "cdH2V-gJ4OsL",
        "outputId": "3afd9884-8617-4d57-8bb9-07dc20ffebc5"
      },
      "outputs": [
        {
          "output_type": "stream",
          "name": "stdout",
          "text": [
            "MSE of Random Forest Regression:  86.62069354596056\n",
            "RMSE of Random Forest Regression:  9.30702388231386\n",
            "MAE of Random Forest Regression:  6.653452685421994\n",
            "R_Square of Random Forest Regression:  0.9789065952425848\n"
          ]
        },
        {
          "output_type": "stream",
          "name": "stderr",
          "text": [
            "/usr/local/lib/python3.7/dist-packages/ipykernel_launcher.py:4: DataConversionWarning: A column-vector y was passed when a 1d array was expected. Please change the shape of y to (n_samples,), for example using ravel().\n",
            "  after removing the cwd from sys.path.\n"
          ]
        },
        {
          "output_type": "execute_result",
          "data": {
            "text/plain": [
              "0.9789065952425848"
            ]
          },
          "metadata": {},
          "execution_count": 140
        }
      ],
      "source": [
        "from sklearn.ensemble import RandomForestRegressor\n",
        "\n",
        "RfReg = RandomForestRegressor(n_estimators=34, random_state=0)\n",
        "RfReg.fit(X_train,Y_train)\n",
        "y_pred = RfReg.predict(X_test)\n",
        "y_pred\n",
        "mse_r = MSE(Y_test,y_pred)\n",
        "print(\"MSE of Random Forest Regression: \",mse_r)\n",
        "rmse_r = mse_r**(1/2)\n",
        "print(\"RMSE of Random Forest Regression: \",rmse_r)\n",
        "mae_r = MAE(Y_test,y_pred)\n",
        "print(\"MAE of Random Forest Regression: \",mae_r)\n",
        "rsquare_r = r2(Y_test,y_pred)\n",
        "print(\"R_Square of Random Forest Regression: \",rsquare_r)\n",
        "RfReg.score(X_test,Y_test)"
      ]
    },
    {
      "cell_type": "markdown",
      "metadata": {
        "id": "aNVRN_ND4Tjr"
      },
      "source": [
        "Decision Tree"
      ]
    },
    {
      "cell_type": "code",
      "execution_count": null,
      "metadata": {
        "colab": {
          "base_uri": "https://localhost:8080/"
        },
        "id": "ppy-AZPh4Uyp",
        "outputId": "ab45366c-f4e0-4514-a583-8551ea7cd053"
      },
      "outputs": [
        {
          "output_type": "stream",
          "name": "stdout",
          "text": [
            "MSE of Decision Tree Regression:  408.6518472348798\n",
            "RMSE of Decision Tree Regression:  20.2151390604883\n",
            "MAE of Decision Tree Regression:  15.710391080990156\n",
            "R_Square of Decision Tree Regression:  0.9004873031405937\n"
          ]
        },
        {
          "output_type": "execute_result",
          "data": {
            "text/plain": [
              "0.9004873031405937"
            ]
          },
          "metadata": {},
          "execution_count": 141
        }
      ],
      "source": [
        "from sklearn.tree import DecisionTreeRegressor\n",
        "from sklearn.metrics import mean_squared_error as MSE \n",
        "\n",
        "dt = DecisionTreeRegressor(max_depth=7,min_samples_leaf=0.1,random_state=0)\n",
        "dt.fit(X_train,Y_train)\n",
        "y_pred = dt.predict(X_test)\n",
        "y_pred\n",
        "mse_d = MSE(Y_test,y_pred)\n",
        "print(\"MSE of Decision Tree Regression: \",mse_d)\n",
        "rmse_d = mse_d**(1/2)\n",
        "print(\"RMSE of Decision Tree Regression: \",rmse_d)\n",
        "mae_d = MAE(Y_test,y_pred)\n",
        "print(\"MAE of Decision Tree Regression: \",mae_d)\n",
        "rsquare_d = r2(Y_test,y_pred)\n",
        "print(\"R_Square of Decision Tree Regression: \",rsquare_d)\n",
        "dt.score(X_test,Y_test)"
      ]
    },
    {
      "cell_type": "markdown",
      "metadata": {
        "id": "aL9ymr9H4YC6"
      },
      "source": [
        "Bayesian Ridge"
      ]
    },
    {
      "cell_type": "code",
      "execution_count": null,
      "metadata": {
        "colab": {
          "base_uri": "https://localhost:8080/"
        },
        "id": "PSnL6j0w4ZTt",
        "outputId": "8d5ee779-ab45-417f-c603-d4cb9fadd9c4"
      },
      "outputs": [
        {
          "output_type": "stream",
          "name": "stdout",
          "text": [
            "MSE of Bayesian Regression:  183.24477095323047\n",
            "RMSE of Bayesian Regression:  20.2151390604883\n",
            "MAE of Bayesian Regression:  10.488359749603378\n",
            "R_Square of Bayesian Regression:  0.9553772203250088\n"
          ]
        },
        {
          "output_type": "stream",
          "name": "stderr",
          "text": [
            "/usr/local/lib/python3.7/dist-packages/sklearn/utils/validation.py:993: DataConversionWarning: A column-vector y was passed when a 1d array was expected. Please change the shape of y to (n_samples, ), for example using ravel().\n",
            "  y = column_or_1d(y, warn=True)\n"
          ]
        },
        {
          "output_type": "execute_result",
          "data": {
            "text/plain": [
              "0.9717008163568663"
            ]
          },
          "metadata": {},
          "execution_count": 142
        }
      ],
      "source": [
        "BayReg = linear_model.BayesianRidge()\n",
        "BayReg.fit(X_train,Y_train)\n",
        "\n",
        "y_pred = BayReg.predict(X_test)\n",
        "y_pred\n",
        "\n",
        "mse_b = MSE(Y_test,y_pred)\n",
        "print(\"MSE of Bayesian Regression: \",mse_b)\n",
        "rmse_b = mse_b**(1/2)\n",
        "print(\"RMSE of Bayesian Regression: \",rmse_d)\n",
        "mae_b = MAE(Y_test,y_pred)\n",
        "print(\"MAE of Bayesian Regression: \",mae_b)\n",
        "rsquare_b = r2(Y_test,y_pred)\n",
        "print(\"R_Square of Bayesian Regression: \",rsquare_b)\n",
        "BayReg.score(X,Y)"
      ]
    },
    {
      "cell_type": "markdown",
      "metadata": {
        "id": "qMHuit1d4d1Y"
      },
      "source": [
        "Support Vector"
      ]
    },
    {
      "cell_type": "code",
      "execution_count": null,
      "metadata": {
        "colab": {
          "base_uri": "https://localhost:8080/"
        },
        "id": "jVJWKhAo4e_K",
        "outputId": "d29e76eb-6959-49ba-ed48-1978d6fc3227"
      },
      "outputs": [
        {
          "output_type": "stream",
          "name": "stdout",
          "text": [
            "MSE of Support Vector Regression:  3787.638398229001\n",
            "RMSE of Support Vector Regression:  61.543792523933725\n",
            "MAE of Support Vector Regression:  50.22112182855106\n",
            "R_Square of Support Vector Regression:  0.07765469730185848\n"
          ]
        },
        {
          "output_type": "stream",
          "name": "stderr",
          "text": [
            "/usr/local/lib/python3.7/dist-packages/sklearn/utils/validation.py:993: DataConversionWarning: A column-vector y was passed when a 1d array was expected. Please change the shape of y to (n_samples, ), for example using ravel().\n",
            "  y = column_or_1d(y, warn=True)\n"
          ]
        },
        {
          "output_type": "execute_result",
          "data": {
            "text/plain": [
              "0.07765469730185848"
            ]
          },
          "metadata": {},
          "execution_count": 143
        }
      ],
      "source": [
        "from sklearn.svm import SVR\n",
        "regressor = SVR(kernel = 'rbf')\n",
        "regressor.fit(X_train,Y_train)\n",
        "\n",
        "y_pred = regressor.predict(X_test)\n",
        "y_pred\n",
        "\n",
        "mse_s = MSE(Y_test,y_pred)\n",
        "print(\"MSE of Support Vector Regression: \",mse_s)\n",
        "rmse_s = mse_s**(1/2)\n",
        "print(\"RMSE of Support Vector Regression: \",rmse_s)\n",
        "mae_s = MAE(Y_test,y_pred)\n",
        "print(\"MAE of Support Vector Regression: \",mae_s)\n",
        "rsquare_s = r2(Y_test,y_pred)\n",
        "print(\"R_Square of Support Vector Regression: \",rsquare_s)\n",
        "regressor.score(X_test,Y_test)"
      ]
    },
    {
      "cell_type": "code",
      "execution_count": null,
      "metadata": {
        "colab": {
          "base_uri": "https://localhost:8080/"
        },
        "id": "3zMGiujc4h5G",
        "outputId": "1497327e-d45d-4951-9bcb-3a1f03690e6f"
      },
      "outputs": [
        {
          "output_type": "execute_result",
          "data": {
            "text/plain": [
              "array([86.57756651])"
            ]
          },
          "metadata": {},
          "execution_count": 144
        }
      ],
      "source": [
        "y_pred = regressor.predict([[1,67,159,62,13,94,40.2 ]])\n",
        "y_pred"
      ]
    }
  ],
  "metadata": {
    "colab": {
      "collapsed_sections": [],
      "provenance": []
    },
    "kernelspec": {
      "display_name": "Python 3",
      "name": "python3"
    },
    "language_info": {
      "name": "python"
    }
  },
  "nbformat": 4,
  "nbformat_minor": 0
}